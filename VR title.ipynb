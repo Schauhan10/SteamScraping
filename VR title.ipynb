{
  "nbformat": 4,
  "nbformat_minor": 0,
  "metadata": {
    "colab": {
      "provenance": []
    },
    "kernelspec": {
      "name": "python3",
      "display_name": "Python 3"
    },
    "language_info": {
      "name": "python"
    }
  },
  "cells": [
    {
      "cell_type": "code",
      "execution_count": 2,
      "metadata": {
        "id": "NcV_68PRdNuU"
      },
      "outputs": [],
      "source": [
        "import csv\n",
        "import requests\n",
        "from bs4 import BeautifulSoup\n",
        "import json\n",
        "import pandas as pd\n",
        "\n",
        "def get_games():\n",
        "  \"\"\"Scrapes VR game titles, links, and votes from a Steam website and saves them to a CSV file\"\"\"\n",
        "  games = []\n",
        "  webpage = \"https://steam250.com/vr250\"\n",
        "  csv_file = 'vr_games2.csv'  # Name of the CSV file to save the data\n",
        "\n",
        "  try:\n",
        "    response = requests.get(webpage)\n",
        "    response.raise_for_status()  # Raise exception for non-200 status codes\n",
        "    soup = BeautifulSoup(response.content, 'html.parser')\n",
        "\n",
        "    for i in range(1, 100):  # Loop from 1 to 50 (inclusive)\n",
        "      game_element = soup.find(id=f\"{i}\")\n",
        "      if game_element:  # Check if element exists (may not have 50 entries)\n",
        "        game_link = game_element.find('a').get('href')\n",
        "        game_title = game_element.find('a').get('data-title')\n",
        "        votes_element = game_element.select_one('.votes')  # Use CSS selector to find votes span\n",
        "        votes = votes_element.text.strip() if votes_element else 'N/A'  # Get votes or 'N/A' if not found\n",
        "        games.append([game_link.split('/')[-1], game_title, votes])  # Extract last part of URL\n",
        "\n",
        "    # Write games data to CSV\n",
        "    with open(csv_file, mode='w', newline='', encoding='utf-8') as file:\n",
        "      writer = csv.writer(file)\n",
        "      writer.writerow(['Game Link', 'Game Title', 'Votes'])  # Writing header\n",
        "      writer.writerows(games)  # Writing game data\n",
        "\n",
        "  except requests.exceptions.RequestException as e:\n",
        "    print(f\"Error fetching data: {e}\")\n",
        "\n",
        "# Example usage\n",
        "get_games()"
      ]
    }
  ]
}